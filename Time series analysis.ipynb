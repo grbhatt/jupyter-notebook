{
 "cells": [
  {
   "cell_type": "code",
   "execution_count": 1,
   "metadata": {},
   "outputs": [
    {
     "data": {
      "text/html": [
       "<div>\n",
       "<style scoped>\n",
       "    .dataframe tbody tr th:only-of-type {\n",
       "        vertical-align: middle;\n",
       "    }\n",
       "\n",
       "    .dataframe tbody tr th {\n",
       "        vertical-align: top;\n",
       "    }\n",
       "\n",
       "    .dataframe thead th {\n",
       "        text-align: right;\n",
       "    }\n",
       "</style>\n",
       "<table border=\"1\" class=\"dataframe\">\n",
       "  <thead>\n",
       "    <tr style=\"text-align: right;\">\n",
       "      <th></th>\n",
       "      <th>Open</th>\n",
       "      <th>High</th>\n",
       "      <th>Low</th>\n",
       "      <th>Close</th>\n",
       "      <th>Volume</th>\n",
       "    </tr>\n",
       "    <tr>\n",
       "      <th>Date</th>\n",
       "      <th></th>\n",
       "      <th></th>\n",
       "      <th></th>\n",
       "      <th></th>\n",
       "      <th></th>\n",
       "    </tr>\n",
       "  </thead>\n",
       "  <tbody>\n",
       "    <tr>\n",
       "      <th>2017-07-07</th>\n",
       "      <td>142.90</td>\n",
       "      <td>144.75</td>\n",
       "      <td>142.90</td>\n",
       "      <td>144.18</td>\n",
       "      <td>19201712</td>\n",
       "    </tr>\n",
       "    <tr>\n",
       "      <th>2017-07-06</th>\n",
       "      <td>143.02</td>\n",
       "      <td>143.50</td>\n",
       "      <td>142.41</td>\n",
       "      <td>142.73</td>\n",
       "      <td>24128782</td>\n",
       "    </tr>\n",
       "    <tr>\n",
       "      <th>2017-07-05</th>\n",
       "      <td>143.69</td>\n",
       "      <td>144.79</td>\n",
       "      <td>142.72</td>\n",
       "      <td>144.09</td>\n",
       "      <td>21569557</td>\n",
       "    </tr>\n",
       "    <tr>\n",
       "      <th>2017-07-03</th>\n",
       "      <td>144.88</td>\n",
       "      <td>145.30</td>\n",
       "      <td>143.10</td>\n",
       "      <td>143.50</td>\n",
       "      <td>14277848</td>\n",
       "    </tr>\n",
       "    <tr>\n",
       "      <th>2017-06-30</th>\n",
       "      <td>144.45</td>\n",
       "      <td>144.96</td>\n",
       "      <td>143.78</td>\n",
       "      <td>144.02</td>\n",
       "      <td>23024107</td>\n",
       "    </tr>\n",
       "  </tbody>\n",
       "</table>\n",
       "</div>"
      ],
      "text/plain": [
       "              Open    High     Low   Close    Volume\n",
       "Date                                                \n",
       "2017-07-07  142.90  144.75  142.90  144.18  19201712\n",
       "2017-07-06  143.02  143.50  142.41  142.73  24128782\n",
       "2017-07-05  143.69  144.79  142.72  144.09  21569557\n",
       "2017-07-03  144.88  145.30  143.10  143.50  14277848\n",
       "2017-06-30  144.45  144.96  143.78  144.02  23024107"
      ]
     },
     "execution_count": 1,
     "metadata": {},
     "output_type": "execute_result"
    }
   ],
   "source": [
    "import pandas as pd \n",
    "df = pd.read_csv(\"aapl.csv\",parse_dates =[\"Date\"],index_col = \"Date\")\n",
    "df.head()"
   ]
  },
  {
   "cell_type": "code",
   "execution_count": 2,
   "metadata": {},
   "outputs": [
    {
     "data": {
      "text/plain": [
       "119.57000000000001"
      ]
     },
     "execution_count": 2,
     "metadata": {},
     "output_type": "execute_result"
    }
   ],
   "source": [
    "df['2017-01'].Close.mean()"
   ]
  },
  {
   "cell_type": "code",
   "execution_count": 3,
   "metadata": {},
   "outputs": [
    {
     "data": {
      "text/html": [
       "<div>\n",
       "<style scoped>\n",
       "    .dataframe tbody tr th:only-of-type {\n",
       "        vertical-align: middle;\n",
       "    }\n",
       "\n",
       "    .dataframe tbody tr th {\n",
       "        vertical-align: top;\n",
       "    }\n",
       "\n",
       "    .dataframe thead th {\n",
       "        text-align: right;\n",
       "    }\n",
       "</style>\n",
       "<table border=\"1\" class=\"dataframe\">\n",
       "  <thead>\n",
       "    <tr style=\"text-align: right;\">\n",
       "      <th></th>\n",
       "      <th>Open</th>\n",
       "      <th>High</th>\n",
       "      <th>Low</th>\n",
       "      <th>Close</th>\n",
       "      <th>Volume</th>\n",
       "    </tr>\n",
       "    <tr>\n",
       "      <th>Date</th>\n",
       "      <th></th>\n",
       "      <th></th>\n",
       "      <th></th>\n",
       "      <th></th>\n",
       "      <th></th>\n",
       "    </tr>\n",
       "  </thead>\n",
       "  <tbody>\n",
       "  </tbody>\n",
       "</table>\n",
       "</div>"
      ],
      "text/plain": [
       "Empty DataFrame\n",
       "Columns: [Open, High, Low, Close, Volume]\n",
       "Index: []"
      ]
     },
     "execution_count": 3,
     "metadata": {},
     "output_type": "execute_result"
    }
   ],
   "source": [
    "df[\"2017-01-03\":\"2017-01-15\"]"
   ]
  },
  {
   "cell_type": "code",
   "execution_count": 4,
   "metadata": {},
   "outputs": [
    {
     "data": {
      "text/plain": [
       "<matplotlib.axes._subplots.AxesSubplot at 0x248115ea358>"
      ]
     },
     "execution_count": 4,
     "metadata": {},
     "output_type": "execute_result"
    },
    {
     "data": {
      "image/png": "[encoded data removed]",
      "text/plain": [
       "<Figure size 432x288 with 1 Axes>"
      ]
     },
     "metadata": {
      "needs_background": "light"
     },
     "output_type": "display_data"
    }
   ],
   "source": [
    "%matplotlib inline\n",
    "df.Close.resample('Q').mean().plot(kind = \"bar\")"
   ]
  },
  {
   "cell_type": "markdown",
   "metadata": {},
   "source": [
    "# Pandas Time Series Analysis Tutorial: date_range"
   ]
  },
  {
   "cell_type": "code",
   "execution_count": 5,
   "metadata": {},
   "outputs": [
    {
     "data": {
      "text/html": [
       "<div>\n",
       "<style scoped>\n",
       "    .dataframe tbody tr th:only-of-type {\n",
       "        vertical-align: middle;\n",
       "    }\n",
       "\n",
       "    .dataframe tbody tr th {\n",
       "        vertical-align: top;\n",
       "    }\n",
       "\n",
       "    .dataframe thead th {\n",
       "        text-align: right;\n",
       "    }\n",
       "</style>\n",
       "<table border=\"1\" class=\"dataframe\">\n",
       "  <thead>\n",
       "    <tr style=\"text-align: right;\">\n",
       "      <th></th>\n",
       "      <th>Open</th>\n",
       "      <th>High</th>\n",
       "      <th>Low</th>\n",
       "      <th>Close</th>\n",
       "      <th>Volume</th>\n",
       "    </tr>\n",
       "  </thead>\n",
       "  <tbody>\n",
       "    <tr>\n",
       "      <th>0</th>\n",
       "      <td>153.17</td>\n",
       "      <td>153.33</td>\n",
       "      <td>152.22</td>\n",
       "      <td>153.18</td>\n",
       "      <td>16404088</td>\n",
       "    </tr>\n",
       "    <tr>\n",
       "      <th>1</th>\n",
       "      <td>153.58</td>\n",
       "      <td>155.45</td>\n",
       "      <td>152.89</td>\n",
       "      <td>155.45</td>\n",
       "      <td>27770715</td>\n",
       "    </tr>\n",
       "    <tr>\n",
       "      <th>2</th>\n",
       "      <td>154.34</td>\n",
       "      <td>154.45</td>\n",
       "      <td>153.46</td>\n",
       "      <td>153.93</td>\n",
       "      <td>25331662</td>\n",
       "    </tr>\n",
       "    <tr>\n",
       "      <th>3</th>\n",
       "      <td>153.90</td>\n",
       "      <td>155.81</td>\n",
       "      <td>153.78</td>\n",
       "      <td>154.45</td>\n",
       "      <td>26624926</td>\n",
       "    </tr>\n",
       "    <tr>\n",
       "      <th>4</th>\n",
       "      <td>155.02</td>\n",
       "      <td>155.98</td>\n",
       "      <td>154.48</td>\n",
       "      <td>155.37</td>\n",
       "      <td>21069647</td>\n",
       "    </tr>\n",
       "  </tbody>\n",
       "</table>\n",
       "</div>"
      ],
      "text/plain": [
       "     Open    High     Low   Close    Volume\n",
       "0  153.17  153.33  152.22  153.18  16404088\n",
       "1  153.58  155.45  152.89  155.45  27770715\n",
       "2  154.34  154.45  153.46  153.93  25331662\n",
       "3  153.90  155.81  153.78  154.45  26624926\n",
       "4  155.02  155.98  154.48  155.37  21069647"
      ]
     },
     "execution_count": 5,
     "metadata": {},
     "output_type": "execute_result"
    }
   ],
   "source": [
    "df1 = pd.read_csv(\"aapl_no_dates.csv\")\n",
    "df1.head()"
   ]
  },
  {
   "cell_type": "code",
   "execution_count": 6,
   "metadata": {},
   "outputs": [
    {
     "data": {
      "text/plain": [
       "DatetimeIndex(['2016-06-01', '2016-06-02', '2016-06-03', '2016-06-06',\n",
       "               '2016-06-07', '2016-06-08', '2016-06-09', '2016-06-10',\n",
       "               '2016-06-13', '2016-06-14', '2016-06-15', '2016-06-16',\n",
       "               '2016-06-17', '2016-06-20', '2016-06-21', '2016-06-22',\n",
       "               '2016-06-23', '2016-06-24', '2016-06-27', '2016-06-28',\n",
       "               '2016-06-29', '2016-06-30'],\n",
       "              dtype='datetime64[ns]', freq='B')"
      ]
     },
     "execution_count": 6,
     "metadata": {},
     "output_type": "execute_result"
    }
   ],
   "source": [
    "rng = pd.date_range(start = \"6/1/2016\",end = \"6/30/2016\",freq='B')\n",
    "rng"
   ]
  },
  {
   "cell_type": "code",
   "execution_count": 7,
   "metadata": {},
   "outputs": [
    {
     "data": {
      "text/html": [
       "<div>\n",
       "<style scoped>\n",
       "    .dataframe tbody tr th:only-of-type {\n",
       "        vertical-align: middle;\n",
       "    }\n",
       "\n",
       "    .dataframe tbody tr th {\n",
       "        vertical-align: top;\n",
       "    }\n",
       "\n",
       "    .dataframe thead th {\n",
       "        text-align: right;\n",
       "    }\n",
       "</style>\n",
       "<table border=\"1\" class=\"dataframe\">\n",
       "  <thead>\n",
       "    <tr style=\"text-align: right;\">\n",
       "      <th></th>\n",
       "      <th>Open</th>\n",
       "      <th>High</th>\n",
       "      <th>Low</th>\n",
       "      <th>Close</th>\n",
       "      <th>Volume</th>\n",
       "    </tr>\n",
       "  </thead>\n",
       "  <tbody>\n",
       "    <tr>\n",
       "      <th>2016-06-01</th>\n",
       "      <td>153.17</td>\n",
       "      <td>153.33</td>\n",
       "      <td>152.22</td>\n",
       "      <td>153.18</td>\n",
       "      <td>16404088</td>\n",
       "    </tr>\n",
       "    <tr>\n",
       "      <th>2016-06-02</th>\n",
       "      <td>153.58</td>\n",
       "      <td>155.45</td>\n",
       "      <td>152.89</td>\n",
       "      <td>155.45</td>\n",
       "      <td>27770715</td>\n",
       "    </tr>\n",
       "    <tr>\n",
       "      <th>2016-06-03</th>\n",
       "      <td>154.34</td>\n",
       "      <td>154.45</td>\n",
       "      <td>153.46</td>\n",
       "      <td>153.93</td>\n",
       "      <td>25331662</td>\n",
       "    </tr>\n",
       "    <tr>\n",
       "      <th>2016-06-06</th>\n",
       "      <td>153.90</td>\n",
       "      <td>155.81</td>\n",
       "      <td>153.78</td>\n",
       "      <td>154.45</td>\n",
       "      <td>26624926</td>\n",
       "    </tr>\n",
       "    <tr>\n",
       "      <th>2016-06-07</th>\n",
       "      <td>155.02</td>\n",
       "      <td>155.98</td>\n",
       "      <td>154.48</td>\n",
       "      <td>155.37</td>\n",
       "      <td>21069647</td>\n",
       "    </tr>\n",
       "  </tbody>\n",
       "</table>\n",
       "</div>"
      ],
      "text/plain": [
       "              Open    High     Low   Close    Volume\n",
       "2016-06-01  153.17  153.33  152.22  153.18  16404088\n",
       "2016-06-02  153.58  155.45  152.89  155.45  27770715\n",
       "2016-06-03  154.34  154.45  153.46  153.93  25331662\n",
       "2016-06-06  153.90  155.81  153.78  154.45  26624926\n",
       "2016-06-07  155.02  155.98  154.48  155.37  21069647"
      ]
     },
     "execution_count": 7,
     "metadata": {},
     "output_type": "execute_result"
    }
   ],
   "source": [
    "df1.set_index(rng,inplace = True)\n",
    "df1.head()"
   ]
  },
  {
   "cell_type": "markdown",
   "metadata": {},
   "source": [
    "# Finding missing dates from datetimeindex"
   ]
  },
  {
   "cell_type": "code",
   "execution_count": 8,
   "metadata": {},
   "outputs": [
    {
     "data": {
      "text/plain": [
       "DatetimeIndex(['2016-06-01', '2016-06-02', '2016-06-03', '2016-06-04',\n",
       "               '2016-06-05', '2016-06-06', '2016-06-07', '2016-06-08',\n",
       "               '2016-06-09', '2016-06-10', '2016-06-11', '2016-06-12',\n",
       "               '2016-06-13', '2016-06-14', '2016-06-15', '2016-06-16',\n",
       "               '2016-06-17', '2016-06-18', '2016-06-19', '2016-06-20',\n",
       "               '2016-06-21', '2016-06-22', '2016-06-23', '2016-06-24',\n",
       "               '2016-06-25', '2016-06-26', '2016-06-27', '2016-06-28',\n",
       "               '2016-06-29', '2016-06-30'],\n",
       "              dtype='datetime64[ns]', freq='D')"
      ]
     },
     "execution_count": 8,
     "metadata": {},
     "output_type": "execute_result"
    }
   ],
   "source": [
    "daily_index = pd.date_range(start=\"6/1/2016\",end=\"6/30/2016\",freq='D')\n",
    "daily_index"
   ]
  },
  {
   "cell_type": "code",
   "execution_count": 9,
   "metadata": {},
   "outputs": [
    {
     "data": {
      "text/plain": [
       "DatetimeIndex(['2016-06-04', '2016-06-05', '2016-06-11', '2016-06-12',\n",
       "               '2016-06-18', '2016-06-19', '2016-06-25', '2016-06-26'],\n",
       "              dtype='datetime64[ns]', freq=None)"
      ]
     },
     "execution_count": 9,
     "metadata": {},
     "output_type": "execute_result"
    }
   ],
   "source": [
    "daily_index.difference(df1.index)"
   ]
  },
  {
   "cell_type": "markdown",
   "metadata": {},
   "source": [
    "# Benefits of having DatetimeIndex"
   ]
  },
  {
   "cell_type": "code",
   "execution_count": 10,
   "metadata": {},
   "outputs": [
    {
     "data": {
      "text/plain": [
       "<matplotlib.axes._subplots.AxesSubplot at 0x248115d7f98>"
      ]
     },
     "execution_count": 10,
     "metadata": {},
     "output_type": "execute_result"
    },
    {
     "data": {
      "image/png": "[encoded data removed]",
      "text/plain": [
       "<Figure size 432x288 with 1 Axes>"
      ]
     },
     "metadata": {
      "needs_background": "light"
     },
     "output_type": "display_data"
    }
   ],
   "source": [
    "%matplotlib inline\n",
    "df1.Close.plot()"
   ]
  },
  {
   "cell_type": "code",
   "execution_count": 11,
   "metadata": {},
   "outputs": [
    {
     "data": {
      "text/plain": [
       "152.72125"
      ]
     },
     "execution_count": 11,
     "metadata": {},
     "output_type": "execute_result"
    }
   ],
   "source": [
    "df1[\"2016-06-01\":\"2016-06-10\"].Close.mean()"
   ]
  },
  {
   "cell_type": "markdown",
   "metadata": {},
   "source": [
    "# asfreq"
   ]
  },
  {
   "cell_type": "code",
   "execution_count": 12,
   "metadata": {},
   "outputs": [
    {
     "data": {
      "text/plain": [
       "DatetimeIndex(['2016-06-01', '2016-06-02', '2016-06-03', '2016-06-06',\n",
       "               '2016-06-07', '2016-06-08', '2016-06-09', '2016-06-10',\n",
       "               '2016-06-13', '2016-06-14', '2016-06-15', '2016-06-16',\n",
       "               '2016-06-17', '2016-06-20', '2016-06-21', '2016-06-22',\n",
       "               '2016-06-23', '2016-06-24', '2016-06-27', '2016-06-28',\n",
       "               '2016-06-29', '2016-06-30'],\n",
       "              dtype='datetime64[ns]', freq='B')"
      ]
     },
     "execution_count": 12,
     "metadata": {},
     "output_type": "execute_result"
    }
   ],
   "source": [
    "df1.index"
   ]
  },
  {
   "cell_type": "raw",
   "metadata": {},
   "source": [
    "method : {'backfill'/'bfill', 'pad'/'ffill'}, default None\n",
    "    Method to use for filling holes in reindexed Series (note this\n",
    "    does not fill NaNs that already were present):\n",
    "\n",
    "    * 'pad' / 'ffill': propagate last valid observation forward to next\n",
    "      valid\n",
    "    * 'backfill' / 'bfill': use NEXT valid observation to fill"
   ]
  },
  {
   "cell_type": "code",
   "execution_count": 13,
   "metadata": {},
   "outputs": [
    {
     "data": {
      "text/html": [
       "<div>\n",
       "<style scoped>\n",
       "    .dataframe tbody tr th:only-of-type {\n",
       "        vertical-align: middle;\n",
       "    }\n",
       "\n",
       "    .dataframe tbody tr th {\n",
       "        vertical-align: top;\n",
       "    }\n",
       "\n",
       "    .dataframe thead th {\n",
       "        text-align: right;\n",
       "    }\n",
       "</style>\n",
       "<table border=\"1\" class=\"dataframe\">\n",
       "  <thead>\n",
       "    <tr style=\"text-align: right;\">\n",
       "      <th></th>\n",
       "      <th>Open</th>\n",
       "      <th>High</th>\n",
       "      <th>Low</th>\n",
       "      <th>Close</th>\n",
       "      <th>Volume</th>\n",
       "    </tr>\n",
       "  </thead>\n",
       "  <tbody>\n",
       "    <tr>\n",
       "      <th>2016-06-01</th>\n",
       "      <td>153.17</td>\n",
       "      <td>153.33</td>\n",
       "      <td>152.22</td>\n",
       "      <td>153.18</td>\n",
       "      <td>16404088</td>\n",
       "    </tr>\n",
       "    <tr>\n",
       "      <th>2016-06-02</th>\n",
       "      <td>153.58</td>\n",
       "      <td>155.45</td>\n",
       "      <td>152.89</td>\n",
       "      <td>155.45</td>\n",
       "      <td>27770715</td>\n",
       "    </tr>\n",
       "    <tr>\n",
       "      <th>2016-06-03</th>\n",
       "      <td>154.34</td>\n",
       "      <td>154.45</td>\n",
       "      <td>153.46</td>\n",
       "      <td>153.93</td>\n",
       "      <td>25331662</td>\n",
       "    </tr>\n",
       "    <tr>\n",
       "      <th>2016-06-04</th>\n",
       "      <td>154.34</td>\n",
       "      <td>154.45</td>\n",
       "      <td>153.46</td>\n",
       "      <td>153.93</td>\n",
       "      <td>25331662</td>\n",
       "    </tr>\n",
       "    <tr>\n",
       "      <th>2016-06-05</th>\n",
       "      <td>154.34</td>\n",
       "      <td>154.45</td>\n",
       "      <td>153.46</td>\n",
       "      <td>153.93</td>\n",
       "      <td>25331662</td>\n",
       "    </tr>\n",
       "    <tr>\n",
       "      <th>2016-06-06</th>\n",
       "      <td>153.90</td>\n",
       "      <td>155.81</td>\n",
       "      <td>153.78</td>\n",
       "      <td>154.45</td>\n",
       "      <td>26624926</td>\n",
       "    </tr>\n",
       "    <tr>\n",
       "      <th>2016-06-07</th>\n",
       "      <td>155.02</td>\n",
       "      <td>155.98</td>\n",
       "      <td>154.48</td>\n",
       "      <td>155.37</td>\n",
       "      <td>21069647</td>\n",
       "    </tr>\n",
       "    <tr>\n",
       "      <th>2016-06-08</th>\n",
       "      <td>155.25</td>\n",
       "      <td>155.54</td>\n",
       "      <td>154.40</td>\n",
       "      <td>154.99</td>\n",
       "      <td>21250798</td>\n",
       "    </tr>\n",
       "    <tr>\n",
       "      <th>2016-06-09</th>\n",
       "      <td>155.19</td>\n",
       "      <td>155.19</td>\n",
       "      <td>146.02</td>\n",
       "      <td>148.98</td>\n",
       "      <td>64882657</td>\n",
       "    </tr>\n",
       "    <tr>\n",
       "      <th>2016-06-10</th>\n",
       "      <td>145.74</td>\n",
       "      <td>146.09</td>\n",
       "      <td>142.51</td>\n",
       "      <td>145.42</td>\n",
       "      <td>72307330</td>\n",
       "    </tr>\n",
       "    <tr>\n",
       "      <th>2016-06-11</th>\n",
       "      <td>145.74</td>\n",
       "      <td>146.09</td>\n",
       "      <td>142.51</td>\n",
       "      <td>145.42</td>\n",
       "      <td>72307330</td>\n",
       "    </tr>\n",
       "    <tr>\n",
       "      <th>2016-06-12</th>\n",
       "      <td>145.74</td>\n",
       "      <td>146.09</td>\n",
       "      <td>142.51</td>\n",
       "      <td>145.42</td>\n",
       "      <td>72307330</td>\n",
       "    </tr>\n",
       "    <tr>\n",
       "      <th>2016-06-13</th>\n",
       "      <td>147.16</td>\n",
       "      <td>147.45</td>\n",
       "      <td>145.15</td>\n",
       "      <td>146.59</td>\n",
       "      <td>34165445</td>\n",
       "    </tr>\n",
       "    <tr>\n",
       "      <th>2016-06-14</th>\n",
       "      <td>147.50</td>\n",
       "      <td>147.50</td>\n",
       "      <td>143.84</td>\n",
       "      <td>145.16</td>\n",
       "      <td>31531232</td>\n",
       "    </tr>\n",
       "    <tr>\n",
       "      <th>2016-06-15</th>\n",
       "      <td>143.32</td>\n",
       "      <td>144.48</td>\n",
       "      <td>142.21</td>\n",
       "      <td>144.29</td>\n",
       "      <td>32165373</td>\n",
       "    </tr>\n",
       "    <tr>\n",
       "      <th>2016-06-16</th>\n",
       "      <td>143.78</td>\n",
       "      <td>144.50</td>\n",
       "      <td>142.20</td>\n",
       "      <td>142.27</td>\n",
       "      <td>50361093</td>\n",
       "    </tr>\n",
       "    <tr>\n",
       "      <th>2016-06-17</th>\n",
       "      <td>143.66</td>\n",
       "      <td>146.74</td>\n",
       "      <td>143.66</td>\n",
       "      <td>146.34</td>\n",
       "      <td>32541404</td>\n",
       "    </tr>\n",
       "    <tr>\n",
       "      <th>2016-06-18</th>\n",
       "      <td>143.66</td>\n",
       "      <td>146.74</td>\n",
       "      <td>143.66</td>\n",
       "      <td>146.34</td>\n",
       "      <td>32541404</td>\n",
       "    </tr>\n",
       "    <tr>\n",
       "      <th>2016-06-19</th>\n",
       "      <td>143.66</td>\n",
       "      <td>146.74</td>\n",
       "      <td>143.66</td>\n",
       "      <td>146.34</td>\n",
       "      <td>32541404</td>\n",
       "    </tr>\n",
       "    <tr>\n",
       "      <th>2016-06-20</th>\n",
       "      <td>146.87</td>\n",
       "      <td>146.87</td>\n",
       "      <td>144.94</td>\n",
       "      <td>145.01</td>\n",
       "      <td>24900073</td>\n",
       "    </tr>\n",
       "    <tr>\n",
       "      <th>2016-06-21</th>\n",
       "      <td>145.52</td>\n",
       "      <td>146.07</td>\n",
       "      <td>144.61</td>\n",
       "      <td>145.87</td>\n",
       "      <td>21265751</td>\n",
       "    </tr>\n",
       "    <tr>\n",
       "      <th>2016-06-22</th>\n",
       "      <td>145.77</td>\n",
       "      <td>146.70</td>\n",
       "      <td>145.12</td>\n",
       "      <td>145.63</td>\n",
       "      <td>19106294</td>\n",
       "    </tr>\n",
       "    <tr>\n",
       "      <th>2016-06-23</th>\n",
       "      <td>145.13</td>\n",
       "      <td>147.16</td>\n",
       "      <td>145.11</td>\n",
       "      <td>146.28</td>\n",
       "      <td>35439389</td>\n",
       "    </tr>\n",
       "    <tr>\n",
       "      <th>2016-06-24</th>\n",
       "      <td>147.17</td>\n",
       "      <td>148.28</td>\n",
       "      <td>145.38</td>\n",
       "      <td>145.82</td>\n",
       "      <td>25692361</td>\n",
       "    </tr>\n",
       "    <tr>\n",
       "      <th>2016-06-25</th>\n",
       "      <td>147.17</td>\n",
       "      <td>148.28</td>\n",
       "      <td>145.38</td>\n",
       "      <td>145.82</td>\n",
       "      <td>25692361</td>\n",
       "    </tr>\n",
       "    <tr>\n",
       "      <th>2016-06-26</th>\n",
       "      <td>147.17</td>\n",
       "      <td>148.28</td>\n",
       "      <td>145.38</td>\n",
       "      <td>145.82</td>\n",
       "      <td>25692361</td>\n",
       "    </tr>\n",
       "    <tr>\n",
       "      <th>2016-06-27</th>\n",
       "      <td>145.01</td>\n",
       "      <td>146.16</td>\n",
       "      <td>143.62</td>\n",
       "      <td>143.73</td>\n",
       "      <td>24761891</td>\n",
       "    </tr>\n",
       "    <tr>\n",
       "      <th>2016-06-28</th>\n",
       "      <td>144.49</td>\n",
       "      <td>146.11</td>\n",
       "      <td>143.16</td>\n",
       "      <td>145.83</td>\n",
       "      <td>22082432</td>\n",
       "    </tr>\n",
       "    <tr>\n",
       "      <th>2016-06-29</th>\n",
       "      <td>144.71</td>\n",
       "      <td>145.13</td>\n",
       "      <td>142.28</td>\n",
       "      <td>143.68</td>\n",
       "      <td>31499368</td>\n",
       "    </tr>\n",
       "    <tr>\n",
       "      <th>2016-06-30</th>\n",
       "      <td>144.45</td>\n",
       "      <td>144.96</td>\n",
       "      <td>143.78</td>\n",
       "      <td>144.02</td>\n",
       "      <td>23024107</td>\n",
       "    </tr>\n",
       "  </tbody>\n",
       "</table>\n",
       "</div>"
      ],
      "text/plain": [
       "              Open    High     Low   Close    Volume\n",
       "2016-06-01  153.17  153.33  152.22  153.18  16404088\n",
       "2016-06-02  153.58  155.45  152.89  155.45  27770715\n",
       "2016-06-03  154.34  154.45  153.46  153.93  25331662\n",
       "2016-06-04  154.34  154.45  153.46  153.93  25331662\n",
       "2016-06-05  154.34  154.45  153.46  153.93  25331662\n",
       "2016-06-06  153.90  155.81  153.78  154.45  26624926\n",
       "2016-06-07  155.02  155.98  154.48  155.37  21069647\n",
       "2016-06-08  155.25  155.54  154.40  154.99  21250798\n",
       "2016-06-09  155.19  155.19  146.02  148.98  64882657\n",
       "2016-06-10  145.74  146.09  142.51  145.42  72307330\n",
       "2016-06-11  145.74  146.09  142.51  145.42  72307330\n",
       "2016-06-12  145.74  146.09  142.51  145.42  72307330\n",
       "2016-06-13  147.16  147.45  145.15  146.59  34165445\n",
       "2016-06-14  147.50  147.50  143.84  145.16  31531232\n",
       "2016-06-15  143.32  144.48  142.21  144.29  32165373\n",
       "2016-06-16  143.78  144.50  142.20  142.27  50361093\n",
       "2016-06-17  143.66  146.74  143.66  146.34  32541404\n",
       "2016-06-18  143.66  146.74  143.66  146.34  32541404\n",
       "2016-06-19  143.66  146.74  143.66  146.34  32541404\n",
       "2016-06-20  146.87  146.87  144.94  145.01  24900073\n",
       "2016-06-21  145.52  146.07  144.61  145.87  21265751\n",
       "2016-06-22  145.77  146.70  145.12  145.63  19106294\n",
       "2016-06-23  145.13  147.16  145.11  146.28  35439389\n",
       "2016-06-24  147.17  148.28  145.38  145.82  25692361\n",
       "2016-06-25  147.17  148.28  145.38  145.82  25692361\n",
       "2016-06-26  147.17  148.28  145.38  145.82  25692361\n",
       "2016-06-27  145.01  146.16  143.62  143.73  24761891\n",
       "2016-06-28  144.49  146.11  143.16  145.83  22082432\n",
       "2016-06-29  144.71  145.13  142.28  143.68  31499368\n",
       "2016-06-30  144.45  144.96  143.78  144.02  23024107"
      ]
     },
     "execution_count": 13,
     "metadata": {},
     "output_type": "execute_result"
    }
   ],
   "source": [
    "df1.asfreq('D',method='pad')"
   ]
  },
  {
   "cell_type": "code",
   "execution_count": 14,
   "metadata": {},
   "outputs": [
    {
     "data": {
      "text/html": [
       "<div>\n",
       "<style scoped>\n",
       "    .dataframe tbody tr th:only-of-type {\n",
       "        vertical-align: middle;\n",
       "    }\n",
       "\n",
       "    .dataframe tbody tr th {\n",
       "        vertical-align: top;\n",
       "    }\n",
       "\n",
       "    .dataframe thead th {\n",
       "        text-align: right;\n",
       "    }\n",
       "</style>\n",
       "<table border=\"1\" class=\"dataframe\">\n",
       "  <thead>\n",
       "    <tr style=\"text-align: right;\">\n",
       "      <th></th>\n",
       "      <th>Open</th>\n",
       "      <th>High</th>\n",
       "      <th>Low</th>\n",
       "      <th>Close</th>\n",
       "      <th>Volume</th>\n",
       "    </tr>\n",
       "  </thead>\n",
       "  <tbody>\n",
       "    <tr>\n",
       "      <th>2016-06-05</th>\n",
       "      <td>154.34</td>\n",
       "      <td>154.45</td>\n",
       "      <td>153.46</td>\n",
       "      <td>153.93</td>\n",
       "      <td>25331662</td>\n",
       "    </tr>\n",
       "    <tr>\n",
       "      <th>2016-06-12</th>\n",
       "      <td>145.74</td>\n",
       "      <td>146.09</td>\n",
       "      <td>142.51</td>\n",
       "      <td>145.42</td>\n",
       "      <td>72307330</td>\n",
       "    </tr>\n",
       "    <tr>\n",
       "      <th>2016-06-19</th>\n",
       "      <td>143.66</td>\n",
       "      <td>146.74</td>\n",
       "      <td>143.66</td>\n",
       "      <td>146.34</td>\n",
       "      <td>32541404</td>\n",
       "    </tr>\n",
       "    <tr>\n",
       "      <th>2016-06-26</th>\n",
       "      <td>147.17</td>\n",
       "      <td>148.28</td>\n",
       "      <td>145.38</td>\n",
       "      <td>145.82</td>\n",
       "      <td>25692361</td>\n",
       "    </tr>\n",
       "  </tbody>\n",
       "</table>\n",
       "</div>"
      ],
      "text/plain": [
       "              Open    High     Low   Close    Volume\n",
       "2016-06-05  154.34  154.45  153.46  153.93  25331662\n",
       "2016-06-12  145.74  146.09  142.51  145.42  72307330\n",
       "2016-06-19  143.66  146.74  143.66  146.34  32541404\n",
       "2016-06-26  147.17  148.28  145.38  145.82  25692361"
      ]
     },
     "execution_count": 14,
     "metadata": {},
     "output_type": "execute_result"
    }
   ],
   "source": [
    "df1.asfreq('W',method='pad')"
   ]
  },
  {
   "cell_type": "code",
   "execution_count": 15,
   "metadata": {},
   "outputs": [
    {
     "data": {
      "text/html": [
       "<div>\n",
       "<style scoped>\n",
       "    .dataframe tbody tr th:only-of-type {\n",
       "        vertical-align: middle;\n",
       "    }\n",
       "\n",
       "    .dataframe tbody tr th {\n",
       "        vertical-align: top;\n",
       "    }\n",
       "\n",
       "    .dataframe thead th {\n",
       "        text-align: right;\n",
       "    }\n",
       "</style>\n",
       "<table border=\"1\" class=\"dataframe\">\n",
       "  <thead>\n",
       "    <tr style=\"text-align: right;\">\n",
       "      <th></th>\n",
       "      <th>Open</th>\n",
       "      <th>High</th>\n",
       "      <th>Low</th>\n",
       "      <th>Close</th>\n",
       "      <th>Volume</th>\n",
       "    </tr>\n",
       "  </thead>\n",
       "  <tbody>\n",
       "    <tr>\n",
       "      <th>2016-06-01 00:00:00</th>\n",
       "      <td>153.17</td>\n",
       "      <td>153.33</td>\n",
       "      <td>152.22</td>\n",
       "      <td>153.18</td>\n",
       "      <td>16404088</td>\n",
       "    </tr>\n",
       "    <tr>\n",
       "      <th>2016-06-01 01:00:00</th>\n",
       "      <td>153.17</td>\n",
       "      <td>153.33</td>\n",
       "      <td>152.22</td>\n",
       "      <td>153.18</td>\n",
       "      <td>16404088</td>\n",
       "    </tr>\n",
       "    <tr>\n",
       "      <th>2016-06-01 02:00:00</th>\n",
       "      <td>153.17</td>\n",
       "      <td>153.33</td>\n",
       "      <td>152.22</td>\n",
       "      <td>153.18</td>\n",
       "      <td>16404088</td>\n",
       "    </tr>\n",
       "    <tr>\n",
       "      <th>2016-06-01 03:00:00</th>\n",
       "      <td>153.17</td>\n",
       "      <td>153.33</td>\n",
       "      <td>152.22</td>\n",
       "      <td>153.18</td>\n",
       "      <td>16404088</td>\n",
       "    </tr>\n",
       "    <tr>\n",
       "      <th>2016-06-01 04:00:00</th>\n",
       "      <td>153.17</td>\n",
       "      <td>153.33</td>\n",
       "      <td>152.22</td>\n",
       "      <td>153.18</td>\n",
       "      <td>16404088</td>\n",
       "    </tr>\n",
       "    <tr>\n",
       "      <th>2016-06-01 05:00:00</th>\n",
       "      <td>153.17</td>\n",
       "      <td>153.33</td>\n",
       "      <td>152.22</td>\n",
       "      <td>153.18</td>\n",
       "      <td>16404088</td>\n",
       "    </tr>\n",
       "    <tr>\n",
       "      <th>2016-06-01 06:00:00</th>\n",
       "      <td>153.17</td>\n",
       "      <td>153.33</td>\n",
       "      <td>152.22</td>\n",
       "      <td>153.18</td>\n",
       "      <td>16404088</td>\n",
       "    </tr>\n",
       "    <tr>\n",
       "      <th>2016-06-01 07:00:00</th>\n",
       "      <td>153.17</td>\n",
       "      <td>153.33</td>\n",
       "      <td>152.22</td>\n",
       "      <td>153.18</td>\n",
       "      <td>16404088</td>\n",
       "    </tr>\n",
       "    <tr>\n",
       "      <th>2016-06-01 08:00:00</th>\n",
       "      <td>153.17</td>\n",
       "      <td>153.33</td>\n",
       "      <td>152.22</td>\n",
       "      <td>153.18</td>\n",
       "      <td>16404088</td>\n",
       "    </tr>\n",
       "    <tr>\n",
       "      <th>2016-06-01 09:00:00</th>\n",
       "      <td>153.17</td>\n",
       "      <td>153.33</td>\n",
       "      <td>152.22</td>\n",
       "      <td>153.18</td>\n",
       "      <td>16404088</td>\n",
       "    </tr>\n",
       "    <tr>\n",
       "      <th>2016-06-01 10:00:00</th>\n",
       "      <td>153.17</td>\n",
       "      <td>153.33</td>\n",
       "      <td>152.22</td>\n",
       "      <td>153.18</td>\n",
       "      <td>16404088</td>\n",
       "    </tr>\n",
       "    <tr>\n",
       "      <th>2016-06-01 11:00:00</th>\n",
       "      <td>153.17</td>\n",
       "      <td>153.33</td>\n",
       "      <td>152.22</td>\n",
       "      <td>153.18</td>\n",
       "      <td>16404088</td>\n",
       "    </tr>\n",
       "    <tr>\n",
       "      <th>2016-06-01 12:00:00</th>\n",
       "      <td>153.17</td>\n",
       "      <td>153.33</td>\n",
       "      <td>152.22</td>\n",
       "      <td>153.18</td>\n",
       "      <td>16404088</td>\n",
       "    </tr>\n",
       "    <tr>\n",
       "      <th>2016-06-01 13:00:00</th>\n",
       "      <td>153.17</td>\n",
       "      <td>153.33</td>\n",
       "      <td>152.22</td>\n",
       "      <td>153.18</td>\n",
       "      <td>16404088</td>\n",
       "    </tr>\n",
       "    <tr>\n",
       "      <th>2016-06-01 14:00:00</th>\n",
       "      <td>153.17</td>\n",
       "      <td>153.33</td>\n",
       "      <td>152.22</td>\n",
       "      <td>153.18</td>\n",
       "      <td>16404088</td>\n",
       "    </tr>\n",
       "    <tr>\n",
       "      <th>2016-06-01 15:00:00</th>\n",
       "      <td>153.17</td>\n",
       "      <td>153.33</td>\n",
       "      <td>152.22</td>\n",
       "      <td>153.18</td>\n",
       "      <td>16404088</td>\n",
       "    </tr>\n",
       "    <tr>\n",
       "      <th>2016-06-01 16:00:00</th>\n",
       "      <td>153.17</td>\n",
       "      <td>153.33</td>\n",
       "      <td>152.22</td>\n",
       "      <td>153.18</td>\n",
       "      <td>16404088</td>\n",
       "    </tr>\n",
       "    <tr>\n",
       "      <th>2016-06-01 17:00:00</th>\n",
       "      <td>153.17</td>\n",
       "      <td>153.33</td>\n",
       "      <td>152.22</td>\n",
       "      <td>153.18</td>\n",
       "      <td>16404088</td>\n",
       "    </tr>\n",
       "    <tr>\n",
       "      <th>2016-06-01 18:00:00</th>\n",
       "      <td>153.17</td>\n",
       "      <td>153.33</td>\n",
       "      <td>152.22</td>\n",
       "      <td>153.18</td>\n",
       "      <td>16404088</td>\n",
       "    </tr>\n",
       "    <tr>\n",
       "      <th>2016-06-01 19:00:00</th>\n",
       "      <td>153.17</td>\n",
       "      <td>153.33</td>\n",
       "      <td>152.22</td>\n",
       "      <td>153.18</td>\n",
       "      <td>16404088</td>\n",
       "    </tr>\n",
       "    <tr>\n",
       "      <th>2016-06-01 20:00:00</th>\n",
       "      <td>153.17</td>\n",
       "      <td>153.33</td>\n",
       "      <td>152.22</td>\n",
       "      <td>153.18</td>\n",
       "      <td>16404088</td>\n",
       "    </tr>\n",
       "    <tr>\n",
       "      <th>2016-06-01 21:00:00</th>\n",
       "      <td>153.17</td>\n",
       "      <td>153.33</td>\n",
       "      <td>152.22</td>\n",
       "      <td>153.18</td>\n",
       "      <td>16404088</td>\n",
       "    </tr>\n",
       "    <tr>\n",
       "      <th>2016-06-01 22:00:00</th>\n",
       "      <td>153.17</td>\n",
       "      <td>153.33</td>\n",
       "      <td>152.22</td>\n",
       "      <td>153.18</td>\n",
       "      <td>16404088</td>\n",
       "    </tr>\n",
       "    <tr>\n",
       "      <th>2016-06-01 23:00:00</th>\n",
       "      <td>153.17</td>\n",
       "      <td>153.33</td>\n",
       "      <td>152.22</td>\n",
       "      <td>153.18</td>\n",
       "      <td>16404088</td>\n",
       "    </tr>\n",
       "    <tr>\n",
       "      <th>2016-06-02 00:00:00</th>\n",
       "      <td>153.58</td>\n",
       "      <td>155.45</td>\n",
       "      <td>152.89</td>\n",
       "      <td>155.45</td>\n",
       "      <td>27770715</td>\n",
       "    </tr>\n",
       "    <tr>\n",
       "      <th>2016-06-02 01:00:00</th>\n",
       "      <td>153.58</td>\n",
       "      <td>155.45</td>\n",
       "      <td>152.89</td>\n",
       "      <td>155.45</td>\n",
       "      <td>27770715</td>\n",
       "    </tr>\n",
       "    <tr>\n",
       "      <th>2016-06-02 02:00:00</th>\n",
       "      <td>153.58</td>\n",
       "      <td>155.45</td>\n",
       "      <td>152.89</td>\n",
       "      <td>155.45</td>\n",
       "      <td>27770715</td>\n",
       "    </tr>\n",
       "    <tr>\n",
       "      <th>2016-06-02 03:00:00</th>\n",
       "      <td>153.58</td>\n",
       "      <td>155.45</td>\n",
       "      <td>152.89</td>\n",
       "      <td>155.45</td>\n",
       "      <td>27770715</td>\n",
       "    </tr>\n",
       "    <tr>\n",
       "      <th>2016-06-02 04:00:00</th>\n",
       "      <td>153.58</td>\n",
       "      <td>155.45</td>\n",
       "      <td>152.89</td>\n",
       "      <td>155.45</td>\n",
       "      <td>27770715</td>\n",
       "    </tr>\n",
       "    <tr>\n",
       "      <th>2016-06-02 05:00:00</th>\n",
       "      <td>153.58</td>\n",
       "      <td>155.45</td>\n",
       "      <td>152.89</td>\n",
       "      <td>155.45</td>\n",
       "      <td>27770715</td>\n",
       "    </tr>\n",
       "    <tr>\n",
       "      <th>...</th>\n",
       "      <td>...</td>\n",
       "      <td>...</td>\n",
       "      <td>...</td>\n",
       "      <td>...</td>\n",
       "      <td>...</td>\n",
       "    </tr>\n",
       "    <tr>\n",
       "      <th>2016-06-28 19:00:00</th>\n",
       "      <td>144.49</td>\n",
       "      <td>146.11</td>\n",
       "      <td>143.16</td>\n",
       "      <td>145.83</td>\n",
       "      <td>22082432</td>\n",
       "    </tr>\n",
       "    <tr>\n",
       "      <th>2016-06-28 20:00:00</th>\n",
       "      <td>144.49</td>\n",
       "      <td>146.11</td>\n",
       "      <td>143.16</td>\n",
       "      <td>145.83</td>\n",
       "      <td>22082432</td>\n",
       "    </tr>\n",
       "    <tr>\n",
       "      <th>2016-06-28 21:00:00</th>\n",
       "      <td>144.49</td>\n",
       "      <td>146.11</td>\n",
       "      <td>143.16</td>\n",
       "      <td>145.83</td>\n",
       "      <td>22082432</td>\n",
       "    </tr>\n",
       "    <tr>\n",
       "      <th>2016-06-28 22:00:00</th>\n",
       "      <td>144.49</td>\n",
       "      <td>146.11</td>\n",
       "      <td>143.16</td>\n",
       "      <td>145.83</td>\n",
       "      <td>22082432</td>\n",
       "    </tr>\n",
       "    <tr>\n",
       "      <th>2016-06-28 23:00:00</th>\n",
       "      <td>144.49</td>\n",
       "      <td>146.11</td>\n",
       "      <td>143.16</td>\n",
       "      <td>145.83</td>\n",
       "      <td>22082432</td>\n",
       "    </tr>\n",
       "    <tr>\n",
       "      <th>2016-06-29 00:00:00</th>\n",
       "      <td>144.71</td>\n",
       "      <td>145.13</td>\n",
       "      <td>142.28</td>\n",
       "      <td>143.68</td>\n",
       "      <td>31499368</td>\n",
       "    </tr>\n",
       "    <tr>\n",
       "      <th>2016-06-29 01:00:00</th>\n",
       "      <td>144.71</td>\n",
       "      <td>145.13</td>\n",
       "      <td>142.28</td>\n",
       "      <td>143.68</td>\n",
       "      <td>31499368</td>\n",
       "    </tr>\n",
       "    <tr>\n",
       "      <th>2016-06-29 02:00:00</th>\n",
       "      <td>144.71</td>\n",
       "      <td>145.13</td>\n",
       "      <td>142.28</td>\n",
       "      <td>143.68</td>\n",
       "      <td>31499368</td>\n",
       "    </tr>\n",
       "    <tr>\n",
       "      <th>2016-06-29 03:00:00</th>\n",
       "      <td>144.71</td>\n",
       "      <td>145.13</td>\n",
       "      <td>142.28</td>\n",
       "      <td>143.68</td>\n",
       "      <td>31499368</td>\n",
       "    </tr>\n",
       "    <tr>\n",
       "      <th>2016-06-29 04:00:00</th>\n",
       "      <td>144.71</td>\n",
       "      <td>145.13</td>\n",
       "      <td>142.28</td>\n",
       "      <td>143.68</td>\n",
       "      <td>31499368</td>\n",
       "    </tr>\n",
       "    <tr>\n",
       "      <th>2016-06-29 05:00:00</th>\n",
       "      <td>144.71</td>\n",
       "      <td>145.13</td>\n",
       "      <td>142.28</td>\n",
       "      <td>143.68</td>\n",
       "      <td>31499368</td>\n",
       "    </tr>\n",
       "    <tr>\n",
       "      <th>2016-06-29 06:00:00</th>\n",
       "      <td>144.71</td>\n",
       "      <td>145.13</td>\n",
       "      <td>142.28</td>\n",
       "      <td>143.68</td>\n",
       "      <td>31499368</td>\n",
       "    </tr>\n",
       "    <tr>\n",
       "      <th>2016-06-29 07:00:00</th>\n",
       "      <td>144.71</td>\n",
       "      <td>145.13</td>\n",
       "      <td>142.28</td>\n",
       "      <td>143.68</td>\n",
       "      <td>31499368</td>\n",
       "    </tr>\n",
       "    <tr>\n",
       "      <th>2016-06-29 08:00:00</th>\n",
       "      <td>144.71</td>\n",
       "      <td>145.13</td>\n",
       "      <td>142.28</td>\n",
       "      <td>143.68</td>\n",
       "      <td>31499368</td>\n",
       "    </tr>\n",
       "    <tr>\n",
       "      <th>2016-06-29 09:00:00</th>\n",
       "      <td>144.71</td>\n",
       "      <td>145.13</td>\n",
       "      <td>142.28</td>\n",
       "      <td>143.68</td>\n",
       "      <td>31499368</td>\n",
       "    </tr>\n",
       "    <tr>\n",
       "      <th>2016-06-29 10:00:00</th>\n",
       "      <td>144.71</td>\n",
       "      <td>145.13</td>\n",
       "      <td>142.28</td>\n",
       "      <td>143.68</td>\n",
       "      <td>31499368</td>\n",
       "    </tr>\n",
       "    <tr>\n",
       "      <th>2016-06-29 11:00:00</th>\n",
       "      <td>144.71</td>\n",
       "      <td>145.13</td>\n",
       "      <td>142.28</td>\n",
       "      <td>143.68</td>\n",
       "      <td>31499368</td>\n",
       "    </tr>\n",
       "    <tr>\n",
       "      <th>2016-06-29 12:00:00</th>\n",
       "      <td>144.71</td>\n",
       "      <td>145.13</td>\n",
       "      <td>142.28</td>\n",
       "      <td>143.68</td>\n",
       "      <td>31499368</td>\n",
       "    </tr>\n",
       "    <tr>\n",
       "      <th>2016-06-29 13:00:00</th>\n",
       "      <td>144.71</td>\n",
       "      <td>145.13</td>\n",
       "      <td>142.28</td>\n",
       "      <td>143.68</td>\n",
       "      <td>31499368</td>\n",
       "    </tr>\n",
       "    <tr>\n",
       "      <th>2016-06-29 14:00:00</th>\n",
       "      <td>144.71</td>\n",
       "      <td>145.13</td>\n",
       "      <td>142.28</td>\n",
       "      <td>143.68</td>\n",
       "      <td>31499368</td>\n",
       "    </tr>\n",
       "    <tr>\n",
       "      <th>2016-06-29 15:00:00</th>\n",
       "      <td>144.71</td>\n",
       "      <td>145.13</td>\n",
       "      <td>142.28</td>\n",
       "      <td>143.68</td>\n",
       "      <td>31499368</td>\n",
       "    </tr>\n",
       "    <tr>\n",
       "      <th>2016-06-29 16:00:00</th>\n",
       "      <td>144.71</td>\n",
       "      <td>145.13</td>\n",
       "      <td>142.28</td>\n",
       "      <td>143.68</td>\n",
       "      <td>31499368</td>\n",
       "    </tr>\n",
       "    <tr>\n",
       "      <th>2016-06-29 17:00:00</th>\n",
       "      <td>144.71</td>\n",
       "      <td>145.13</td>\n",
       "      <td>142.28</td>\n",
       "      <td>143.68</td>\n",
       "      <td>31499368</td>\n",
       "    </tr>\n",
       "    <tr>\n",
       "      <th>2016-06-29 18:00:00</th>\n",
       "      <td>144.71</td>\n",
       "      <td>145.13</td>\n",
       "      <td>142.28</td>\n",
       "      <td>143.68</td>\n",
       "      <td>31499368</td>\n",
       "    </tr>\n",
       "    <tr>\n",
       "      <th>2016-06-29 19:00:00</th>\n",
       "      <td>144.71</td>\n",
       "      <td>145.13</td>\n",
       "      <td>142.28</td>\n",
       "      <td>143.68</td>\n",
       "      <td>31499368</td>\n",
       "    </tr>\n",
       "    <tr>\n",
       "      <th>2016-06-29 20:00:00</th>\n",
       "      <td>144.71</td>\n",
       "      <td>145.13</td>\n",
       "      <td>142.28</td>\n",
       "      <td>143.68</td>\n",
       "      <td>31499368</td>\n",
       "    </tr>\n",
       "    <tr>\n",
       "      <th>2016-06-29 21:00:00</th>\n",
       "      <td>144.71</td>\n",
       "      <td>145.13</td>\n",
       "      <td>142.28</td>\n",
       "      <td>143.68</td>\n",
       "      <td>31499368</td>\n",
       "    </tr>\n",
       "    <tr>\n",
       "      <th>2016-06-29 22:00:00</th>\n",
       "      <td>144.71</td>\n",
       "      <td>145.13</td>\n",
       "      <td>142.28</td>\n",
       "      <td>143.68</td>\n",
       "      <td>31499368</td>\n",
       "    </tr>\n",
       "    <tr>\n",
       "      <th>2016-06-29 23:00:00</th>\n",
       "      <td>144.71</td>\n",
       "      <td>145.13</td>\n",
       "      <td>142.28</td>\n",
       "      <td>143.68</td>\n",
       "      <td>31499368</td>\n",
       "    </tr>\n",
       "    <tr>\n",
       "      <th>2016-06-30 00:00:00</th>\n",
       "      <td>144.45</td>\n",
       "      <td>144.96</td>\n",
       "      <td>143.78</td>\n",
       "      <td>144.02</td>\n",
       "      <td>23024107</td>\n",
       "    </tr>\n",
       "  </tbody>\n",
       "</table>\n",
       "<p>697 rows × 5 columns</p>\n",
       "</div>"
      ],
      "text/plain": [
       "                       Open    High     Low   Close    Volume\n",
       "2016-06-01 00:00:00  153.17  153.33  152.22  153.18  16404088\n",
       "2016-06-01 01:00:00  153.17  153.33  152.22  153.18  16404088\n",
       "2016-06-01 02:00:00  153.17  153.33  152.22  153.18  16404088\n",
       "2016-06-01 03:00:00  153.17  153.33  152.22  153.18  16404088\n",
       "2016-06-01 04:00:00  153.17  153.33  152.22  153.18  16404088\n",
       "2016-06-01 05:00:00  153.17  153.33  152.22  153.18  16404088\n",
       "2016-06-01 06:00:00  153.17  153.33  152.22  153.18  16404088\n",
       "2016-06-01 07:00:00  153.17  153.33  152.22  153.18  16404088\n",
       "2016-06-01 08:00:00  153.17  153.33  152.22  153.18  16404088\n",
       "2016-06-01 09:00:00  153.17  153.33  152.22  153.18  16404088\n",
       "2016-06-01 10:00:00  153.17  153.33  152.22  153.18  16404088\n",
       "2016-06-01 11:00:00  153.17  153.33  152.22  153.18  16404088\n",
       "2016-06-01 12:00:00  153.17  153.33  152.22  153.18  16404088\n",
       "2016-06-01 13:00:00  153.17  153.33  152.22  153.18  16404088\n",
       "2016-06-01 14:00:00  153.17  153.33  152.22  153.18  16404088\n",
       "2016-06-01 15:00:00  153.17  153.33  152.22  153.18  16404088\n",
       "2016-06-01 16:00:00  153.17  153.33  152.22  153.18  16404088\n",
       "2016-06-01 17:00:00  153.17  153.33  152.22  153.18  16404088\n",
       "2016-06-01 18:00:00  153.17  153.33  152.22  153.18  16404088\n",
       "2016-06-01 19:00:00  153.17  153.33  152.22  153.18  16404088\n",
       "2016-06-01 20:00:00  153.17  153.33  152.22  153.18  16404088\n",
       "2016-06-01 21:00:00  153.17  153.33  152.22  153.18  16404088\n",
       "2016-06-01 22:00:00  153.17  153.33  152.22  153.18  16404088\n",
       "2016-06-01 23:00:00  153.17  153.33  152.22  153.18  16404088\n",
       "2016-06-02 00:00:00  153.58  155.45  152.89  155.45  27770715\n",
       "2016-06-02 01:00:00  153.58  155.45  152.89  155.45  27770715\n",
       "2016-06-02 02:00:00  153.58  155.45  152.89  155.45  27770715\n",
       "2016-06-02 03:00:00  153.58  155.45  152.89  155.45  27770715\n",
       "2016-06-02 04:00:00  153.58  155.45  152.89  155.45  27770715\n",
       "2016-06-02 05:00:00  153.58  155.45  152.89  155.45  27770715\n",
       "...                     ...     ...     ...     ...       ...\n",
       "2016-06-28 19:00:00  144.49  146.11  143.16  145.83  22082432\n",
       "2016-06-28 20:00:00  144.49  146.11  143.16  145.83  22082432\n",
       "2016-06-28 21:00:00  144.49  146.11  143.16  145.83  22082432\n",
       "2016-06-28 22:00:00  144.49  146.11  143.16  145.83  22082432\n",
       "2016-06-28 23:00:00  144.49  146.11  143.16  145.83  22082432\n",
       "2016-06-29 00:00:00  144.71  145.13  142.28  143.68  31499368\n",
       "2016-06-29 01:00:00  144.71  145.13  142.28  143.68  31499368\n",
       "2016-06-29 02:00:00  144.71  145.13  142.28  143.68  31499368\n",
       "2016-06-29 03:00:00  144.71  145.13  142.28  143.68  31499368\n",
       "2016-06-29 04:00:00  144.71  145.13  142.28  143.68  31499368\n",
       "2016-06-29 05:00:00  144.71  145.13  142.28  143.68  31499368\n",
       "2016-06-29 06:00:00  144.71  145.13  142.28  143.68  31499368\n",
       "2016-06-29 07:00:00  144.71  145.13  142.28  143.68  31499368\n",
       "2016-06-29 08:00:00  144.71  145.13  142.28  143.68  31499368\n",
       "2016-06-29 09:00:00  144.71  145.13  142.28  143.68  31499368\n",
       "2016-06-29 10:00:00  144.71  145.13  142.28  143.68  31499368\n",
       "2016-06-29 11:00:00  144.71  145.13  142.28  143.68  31499368\n",
       "2016-06-29 12:00:00  144.71  145.13  142.28  143.68  31499368\n",
       "2016-06-29 13:00:00  144.71  145.13  142.28  143.68  31499368\n",
       "2016-06-29 14:00:00  144.71  145.13  142.28  143.68  31499368\n",
       "2016-06-29 15:00:00  144.71  145.13  142.28  143.68  31499368\n",
       "2016-06-29 16:00:00  144.71  145.13  142.28  143.68  31499368\n",
       "2016-06-29 17:00:00  144.71  145.13  142.28  143.68  31499368\n",
       "2016-06-29 18:00:00  144.71  145.13  142.28  143.68  31499368\n",
       "2016-06-29 19:00:00  144.71  145.13  142.28  143.68  31499368\n",
       "2016-06-29 20:00:00  144.71  145.13  142.28  143.68  31499368\n",
       "2016-06-29 21:00:00  144.71  145.13  142.28  143.68  31499368\n",
       "2016-06-29 22:00:00  144.71  145.13  142.28  143.68  31499368\n",
       "2016-06-29 23:00:00  144.71  145.13  142.28  143.68  31499368\n",
       "2016-06-30 00:00:00  144.45  144.96  143.78  144.02  23024107\n",
       "\n",
       "[697 rows x 5 columns]"
      ]
     },
     "execution_count": 15,
     "metadata": {},
     "output_type": "execute_result"
    }
   ],
   "source": [
    "df1.asfreq(\"H\",method = \"ffill\")"
   ]
  },
  {
   "cell_type": "markdown",
   "metadata": {},
   "source": [
    "# generating DatetimeIndex with periods argument"
   ]
  },
  {
   "cell_type": "code",
   "execution_count": 16,
   "metadata": {},
   "outputs": [
    {
     "data": {
      "text/plain": [
       "DatetimeIndex(['2011-01-01 00:00:00', '2011-01-01 01:00:00',\n",
       "               '2011-01-01 02:00:00', '2011-01-01 03:00:00',\n",
       "               '2011-01-01 04:00:00', '2011-01-01 05:00:00',\n",
       "               '2011-01-01 06:00:00', '2011-01-01 07:00:00',\n",
       "               '2011-01-01 08:00:00', '2011-01-01 09:00:00',\n",
       "               '2011-01-01 10:00:00', '2011-01-01 11:00:00',\n",
       "               '2011-01-01 12:00:00', '2011-01-01 13:00:00',\n",
       "               '2011-01-01 14:00:00', '2011-01-01 15:00:00',\n",
       "               '2011-01-01 16:00:00', '2011-01-01 17:00:00',\n",
       "               '2011-01-01 18:00:00', '2011-01-01 19:00:00',\n",
       "               '2011-01-01 20:00:00', '2011-01-01 21:00:00',\n",
       "               '2011-01-01 22:00:00', '2011-01-01 23:00:00',\n",
       "               '2011-01-02 00:00:00', '2011-01-02 01:00:00',\n",
       "               '2011-01-02 02:00:00', '2011-01-02 03:00:00',\n",
       "               '2011-01-02 04:00:00', '2011-01-02 05:00:00',\n",
       "               '2011-01-02 06:00:00', '2011-01-02 07:00:00',\n",
       "               '2011-01-02 08:00:00', '2011-01-02 09:00:00',\n",
       "               '2011-01-02 10:00:00', '2011-01-02 11:00:00',\n",
       "               '2011-01-02 12:00:00', '2011-01-02 13:00:00',\n",
       "               '2011-01-02 14:00:00', '2011-01-02 15:00:00',\n",
       "               '2011-01-02 16:00:00', '2011-01-02 17:00:00',\n",
       "               '2011-01-02 18:00:00', '2011-01-02 19:00:00',\n",
       "               '2011-01-02 20:00:00', '2011-01-02 21:00:00',\n",
       "               '2011-01-02 22:00:00', '2011-01-02 23:00:00',\n",
       "               '2011-01-03 00:00:00', '2011-01-03 01:00:00',\n",
       "               '2011-01-03 02:00:00', '2011-01-03 03:00:00',\n",
       "               '2011-01-03 04:00:00', '2011-01-03 05:00:00',\n",
       "               '2011-01-03 06:00:00', '2011-01-03 07:00:00',\n",
       "               '2011-01-03 08:00:00', '2011-01-03 09:00:00',\n",
       "               '2011-01-03 10:00:00', '2011-01-03 11:00:00',\n",
       "               '2011-01-03 12:00:00', '2011-01-03 13:00:00',\n",
       "               '2011-01-03 14:00:00', '2011-01-03 15:00:00',\n",
       "               '2011-01-03 16:00:00', '2011-01-03 17:00:00',\n",
       "               '2011-01-03 18:00:00', '2011-01-03 19:00:00',\n",
       "               '2011-01-03 20:00:00', '2011-01-03 21:00:00',\n",
       "               '2011-01-03 22:00:00', '2011-01-03 23:00:00'],\n",
       "              dtype='datetime64[ns]', freq='H')"
      ]
     },
     "execution_count": 16,
     "metadata": {},
     "output_type": "execute_result"
    }
   ],
   "source": [
    "rng = pd.date_range('1/1/2011', periods=72, freq='H')\n",
    "rng"
   ]
  },
  {
   "cell_type": "code",
   "execution_count": 17,
   "metadata": {},
   "outputs": [
    {
     "data": {
      "text/plain": [
       "2011-01-01 00:00:00    3\n",
       "2011-01-01 01:00:00    3\n",
       "2011-01-01 02:00:00    5\n",
       "2011-01-01 03:00:00    6\n",
       "2011-01-01 04:00:00    8\n",
       "2011-01-01 05:00:00    1\n",
       "2011-01-01 06:00:00    9\n",
       "2011-01-01 07:00:00    6\n",
       "2011-01-01 08:00:00    1\n",
       "2011-01-01 09:00:00    7\n",
       "2011-01-01 10:00:00    5\n",
       "2011-01-01 11:00:00    0\n",
       "2011-01-01 12:00:00    2\n",
       "2011-01-01 13:00:00    7\n",
       "2011-01-01 14:00:00    2\n",
       "2011-01-01 15:00:00    5\n",
       "2011-01-01 16:00:00    3\n",
       "2011-01-01 17:00:00    0\n",
       "2011-01-01 18:00:00    5\n",
       "2011-01-01 19:00:00    0\n",
       "Freq: H, dtype: int32"
      ]
     },
     "execution_count": 17,
     "metadata": {},
     "output_type": "execute_result"
    }
   ],
   "source": [
    "import numpy as np\n",
    "ts = pd.Series(np.random.randint(0,10,len(rng)),index = rng)\n",
    "ts.head(20)"
   ]
  },
  {
   "cell_type": "markdown",
   "metadata": {},
   "source": [
    "# Pandas Time Series Analysis Tutorial: Handling Holidays"
   ]
  },
  {
   "cell_type": "code",
   "execution_count": 34,
   "metadata": {},
   "outputs": [
    {
     "data": {
      "text/html": [
       "<div>\n",
       "<style scoped>\n",
       "    .dataframe tbody tr th:only-of-type {\n",
       "        vertical-align: middle;\n",
       "    }\n",
       "\n",
       "    .dataframe tbody tr th {\n",
       "        vertical-align: top;\n",
       "    }\n",
       "\n",
       "    .dataframe thead th {\n",
       "        text-align: right;\n",
       "    }\n",
       "</style>\n",
       "<table border=\"1\" class=\"dataframe\">\n",
       "  <thead>\n",
       "    <tr style=\"text-align: right;\">\n",
       "      <th></th>\n",
       "      <th>Open</th>\n",
       "      <th>High</th>\n",
       "      <th>Low</th>\n",
       "      <th>Close</th>\n",
       "      <th>Volume</th>\n",
       "    </tr>\n",
       "  </thead>\n",
       "  <tbody>\n",
       "    <tr>\n",
       "      <th>0</th>\n",
       "      <td>153.17</td>\n",
       "      <td>153.33</td>\n",
       "      <td>152.22</td>\n",
       "      <td>153.18</td>\n",
       "      <td>16404088</td>\n",
       "    </tr>\n",
       "    <tr>\n",
       "      <th>1</th>\n",
       "      <td>153.58</td>\n",
       "      <td>155.45</td>\n",
       "      <td>152.89</td>\n",
       "      <td>155.45</td>\n",
       "      <td>27770715</td>\n",
       "    </tr>\n",
       "    <tr>\n",
       "      <th>2</th>\n",
       "      <td>154.34</td>\n",
       "      <td>154.45</td>\n",
       "      <td>153.46</td>\n",
       "      <td>153.93</td>\n",
       "      <td>25331662</td>\n",
       "    </tr>\n",
       "    <tr>\n",
       "      <th>3</th>\n",
       "      <td>153.90</td>\n",
       "      <td>155.81</td>\n",
       "      <td>153.78</td>\n",
       "      <td>154.45</td>\n",
       "      <td>26624926</td>\n",
       "    </tr>\n",
       "    <tr>\n",
       "      <th>4</th>\n",
       "      <td>155.02</td>\n",
       "      <td>155.98</td>\n",
       "      <td>154.48</td>\n",
       "      <td>155.37</td>\n",
       "      <td>21069647</td>\n",
       "    </tr>\n",
       "  </tbody>\n",
       "</table>\n",
       "</div>"
      ],
      "text/plain": [
       "     Open    High     Low   Close    Volume\n",
       "0  153.17  153.33  152.22  153.18  16404088\n",
       "1  153.58  155.45  152.89  155.45  27770715\n",
       "2  154.34  154.45  153.46  153.93  25331662\n",
       "3  153.90  155.81  153.78  154.45  26624926\n",
       "4  155.02  155.98  154.48  155.37  21069647"
      ]
     },
     "execution_count": 34,
     "metadata": {},
     "output_type": "execute_result"
    }
   ],
   "source": [
    "df2 = pd.read_csv(\"aapl_no_dates.csv\")\n",
    "df2.head()"
   ]
  },
  {
   "cell_type": "code",
   "execution_count": 38,
   "metadata": {},
   "outputs": [
    {
     "data": {
      "text/plain": [
       "DatetimeIndex(['2017-07-03', '2017-07-04', '2017-07-05', '2017-07-06',\n",
       "               '2017-07-07', '2017-07-10', '2017-07-11', '2017-07-12',\n",
       "               '2017-07-13', '2017-07-14', '2017-07-17', '2017-07-18',\n",
       "               '2017-07-19', '2017-07-20', '2017-07-21'],\n",
       "              dtype='datetime64[ns]', freq='B')"
      ]
     },
     "execution_count": 38,
     "metadata": {},
     "output_type": "execute_result"
    }
   ],
   "source": [
    "rng = pd.date_range(start = \"2017/07/01\",end = '2017/07/21',freq = 'B')\n",
    "rng"
   ]
  },
  {
   "cell_type": "markdown",
   "metadata": {},
   "source": [
    "# Using CustomBusinessDay to generate US holidays calendar frequency"
   ]
  },
  {
   "cell_type": "code",
   "execution_count": null,
   "metadata": {},
   "outputs": [],
   "source": []
  },
  {
   "cell_type": "code",
   "execution_count": 39,
   "metadata": {},
   "outputs": [
    {
     "data": {
      "text/plain": [
       "DatetimeIndex(['2017-07-03', '2017-07-05', '2017-07-06', '2017-07-07',\n",
       "               '2017-07-10', '2017-07-11', '2017-07-12', '2017-07-13',\n",
       "               '2017-07-14', '2017-07-17', '2017-07-18', '2017-07-19',\n",
       "               '2017-07-20', '2017-07-21'],\n",
       "              dtype='datetime64[ns]', freq='C')"
      ]
     },
     "execution_count": 39,
     "metadata": {},
     "output_type": "execute_result"
    }
   ],
   "source": [
    "from pandas.tseries.holiday import USFederalHolidayCalendar\n",
    "from pandas.tseries.offsets import CustomBusinessDay\n",
    "\n",
    "us_cal = CustomBusinessDay(calendar=USFederalHolidayCalendar())\n",
    "rng = pd.date_range(start=\"7/1/2017\",end=\"7/23/2017\", freq=us_cal)\n",
    "rng\n"
   ]
  },
  {
   "cell_type": "code",
   "execution_count": null,
   "metadata": {},
   "outputs": [],
   "source": []
  },
  {
   "cell_type": "code",
   "execution_count": 40,
   "metadata": {},
   "outputs": [
    {
     "ename": "ValueError",
     "evalue": "Length mismatch: Expected axis has 22 elements, new values have 14 elements",
     "output_type": "error",
     "traceback": [
      "\u001b[1;31m---------------------------------------------------------------------------\u001b[0m",
      "\u001b[1;31mValueError\u001b[0m                                Traceback (most recent call last)",
      "\u001b[1;32m<ipython-input-40-8a8e9075d3e4>\u001b[0m in \u001b[0;36m<module>\u001b[1;34m\u001b[0m\n\u001b[1;32m----> 1\u001b[1;33m \u001b[0mdf2\u001b[0m\u001b[1;33m.\u001b[0m\u001b[0mset_index\u001b[0m\u001b[1;33m(\u001b[0m\u001b[0mrng\u001b[0m\u001b[1;33m,\u001b[0m\u001b[0minplace\u001b[0m\u001b[1;33m=\u001b[0m\u001b[1;32mTrue\u001b[0m\u001b[1;33m)\u001b[0m\u001b[1;33m\u001b[0m\u001b[1;33m\u001b[0m\u001b[0m\n\u001b[0m\u001b[0;32m      2\u001b[0m \u001b[0mdf2\u001b[0m\u001b[1;33m.\u001b[0m\u001b[0mhead\u001b[0m\u001b[1;33m(\u001b[0m\u001b[1;33m)\u001b[0m\u001b[1;33m\u001b[0m\u001b[1;33m\u001b[0m\u001b[0m\n",
      "\u001b[1;32m~\\Anaconda3\\lib\\site-packages\\pandas\\core\\frame.py\u001b[0m in \u001b[0;36mset_index\u001b[1;34m(self, keys, drop, append, inplace, verify_integrity)\u001b[0m\n\u001b[0;32m   4196\u001b[0m         \u001b[0mindex\u001b[0m\u001b[1;33m.\u001b[0m\u001b[0m_cleanup\u001b[0m\u001b[1;33m(\u001b[0m\u001b[1;33m)\u001b[0m\u001b[1;33m\u001b[0m\u001b[1;33m\u001b[0m\u001b[0m\n\u001b[0;32m   4197\u001b[0m \u001b[1;33m\u001b[0m\u001b[0m\n\u001b[1;32m-> 4198\u001b[1;33m         \u001b[0mframe\u001b[0m\u001b[1;33m.\u001b[0m\u001b[0mindex\u001b[0m \u001b[1;33m=\u001b[0m \u001b[0mindex\u001b[0m\u001b[1;33m\u001b[0m\u001b[1;33m\u001b[0m\u001b[0m\n\u001b[0m\u001b[0;32m   4199\u001b[0m \u001b[1;33m\u001b[0m\u001b[0m\n\u001b[0;32m   4200\u001b[0m         \u001b[1;32mif\u001b[0m \u001b[1;32mnot\u001b[0m \u001b[0minplace\u001b[0m\u001b[1;33m:\u001b[0m\u001b[1;33m\u001b[0m\u001b[1;33m\u001b[0m\u001b[0m\n",
      "\u001b[1;32m~\\Anaconda3\\lib\\site-packages\\pandas\\core\\generic.py\u001b[0m in \u001b[0;36m__setattr__\u001b[1;34m(self, name, value)\u001b[0m\n\u001b[0;32m   5078\u001b[0m         \u001b[1;32mtry\u001b[0m\u001b[1;33m:\u001b[0m\u001b[1;33m\u001b[0m\u001b[1;33m\u001b[0m\u001b[0m\n\u001b[0;32m   5079\u001b[0m             \u001b[0mobject\u001b[0m\u001b[1;33m.\u001b[0m\u001b[0m__getattribute__\u001b[0m\u001b[1;33m(\u001b[0m\u001b[0mself\u001b[0m\u001b[1;33m,\u001b[0m \u001b[0mname\u001b[0m\u001b[1;33m)\u001b[0m\u001b[1;33m\u001b[0m\u001b[1;33m\u001b[0m\u001b[0m\n\u001b[1;32m-> 5080\u001b[1;33m             \u001b[1;32mreturn\u001b[0m \u001b[0mobject\u001b[0m\u001b[1;33m.\u001b[0m\u001b[0m__setattr__\u001b[0m\u001b[1;33m(\u001b[0m\u001b[0mself\u001b[0m\u001b[1;33m,\u001b[0m \u001b[0mname\u001b[0m\u001b[1;33m,\u001b[0m \u001b[0mvalue\u001b[0m\u001b[1;33m)\u001b[0m\u001b[1;33m\u001b[0m\u001b[1;33m\u001b[0m\u001b[0m\n\u001b[0m\u001b[0;32m   5081\u001b[0m         \u001b[1;32mexcept\u001b[0m \u001b[0mAttributeError\u001b[0m\u001b[1;33m:\u001b[0m\u001b[1;33m\u001b[0m\u001b[1;33m\u001b[0m\u001b[0m\n\u001b[0;32m   5082\u001b[0m             \u001b[1;32mpass\u001b[0m\u001b[1;33m\u001b[0m\u001b[1;33m\u001b[0m\u001b[0m\n",
      "\u001b[1;32mpandas/_libs/properties.pyx\u001b[0m in \u001b[0;36mpandas._libs.properties.AxisProperty.__set__\u001b[1;34m()\u001b[0m\n",
      "\u001b[1;32m~\\Anaconda3\\lib\\site-packages\\pandas\\core\\generic.py\u001b[0m in \u001b[0;36m_set_axis\u001b[1;34m(self, axis, labels)\u001b[0m\n\u001b[0;32m    636\u001b[0m \u001b[1;33m\u001b[0m\u001b[0m\n\u001b[0;32m    637\u001b[0m     \u001b[1;32mdef\u001b[0m \u001b[0m_set_axis\u001b[0m\u001b[1;33m(\u001b[0m\u001b[0mself\u001b[0m\u001b[1;33m,\u001b[0m \u001b[0maxis\u001b[0m\u001b[1;33m,\u001b[0m \u001b[0mlabels\u001b[0m\u001b[1;33m)\u001b[0m\u001b[1;33m:\u001b[0m\u001b[1;33m\u001b[0m\u001b[1;33m\u001b[0m\u001b[0m\n\u001b[1;32m--> 638\u001b[1;33m         \u001b[0mself\u001b[0m\u001b[1;33m.\u001b[0m\u001b[0m_data\u001b[0m\u001b[1;33m.\u001b[0m\u001b[0mset_axis\u001b[0m\u001b[1;33m(\u001b[0m\u001b[0maxis\u001b[0m\u001b[1;33m,\u001b[0m \u001b[0mlabels\u001b[0m\u001b[1;33m)\u001b[0m\u001b[1;33m\u001b[0m\u001b[1;33m\u001b[0m\u001b[0m\n\u001b[0m\u001b[0;32m    639\u001b[0m         \u001b[0mself\u001b[0m\u001b[1;33m.\u001b[0m\u001b[0m_clear_item_cache\u001b[0m\u001b[1;33m(\u001b[0m\u001b[1;33m)\u001b[0m\u001b[1;33m\u001b[0m\u001b[1;33m\u001b[0m\u001b[0m\n\u001b[0;32m    640\u001b[0m \u001b[1;33m\u001b[0m\u001b[0m\n",
      "\u001b[1;32m~\\Anaconda3\\lib\\site-packages\\pandas\\core\\internals\\managers.py\u001b[0m in \u001b[0;36mset_axis\u001b[1;34m(self, axis, new_labels)\u001b[0m\n\u001b[0;32m    153\u001b[0m             raise ValueError(\n\u001b[0;32m    154\u001b[0m                 \u001b[1;34m'Length mismatch: Expected axis has {old} elements, new '\u001b[0m\u001b[1;33m\u001b[0m\u001b[1;33m\u001b[0m\u001b[0m\n\u001b[1;32m--> 155\u001b[1;33m                 'values have {new} elements'.format(old=old_len, new=new_len))\n\u001b[0m\u001b[0;32m    156\u001b[0m \u001b[1;33m\u001b[0m\u001b[0m\n\u001b[0;32m    157\u001b[0m         \u001b[0mself\u001b[0m\u001b[1;33m.\u001b[0m\u001b[0maxes\u001b[0m\u001b[1;33m[\u001b[0m\u001b[0maxis\u001b[0m\u001b[1;33m]\u001b[0m \u001b[1;33m=\u001b[0m \u001b[0mnew_labels\u001b[0m\u001b[1;33m\u001b[0m\u001b[1;33m\u001b[0m\u001b[0m\n",
      "\u001b[1;31mValueError\u001b[0m: Length mismatch: Expected axis has 22 elements, new values have 14 elements"
     ]
    }
   ],
   "source": [
    "df2.set_index(rng,inplace=True)\n",
    "df2.head()"
   ]
  },
  {
   "cell_type": "markdown",
   "metadata": {},
   "source": [
    "# Pandas Time Series Analysis Tutorial: to_datetime"
   ]
  },
  {
   "cell_type": "code",
   "execution_count": 41,
   "metadata": {},
   "outputs": [
    {
     "data": {
      "text/plain": [
       "DatetimeIndex(['2017-01-05', '2017-01-05', '2017-01-05', '2017-01-05',\n",
       "               '2017-01-05', '2017-01-05'],\n",
       "              dtype='datetime64[ns]', freq=None)"
      ]
     },
     "execution_count": 41,
     "metadata": {},
     "output_type": "execute_result"
    }
   ],
   "source": [
    "dates = ['2017-01-05', 'Jan 5, 2017', '01/05/2017', '2017.01.05', '2017/01/05','20170105']\n",
    "pd.to_datetime(dates)"
   ]
  },
  {
   "cell_type": "code",
   "execution_count": 42,
   "metadata": {},
   "outputs": [
    {
     "data": {
      "text/plain": [
       "DatetimeIndex(['2017-01-05 14:30:00', '2017-01-05 14:30:00',\n",
       "               '2016-01-05 00:00:00', '2017-01-05 00:00:00',\n",
       "               '2017-01-05 00:00:00', '2017-01-05 00:00:00'],\n",
       "              dtype='datetime64[ns]', freq=None)"
      ]
     },
     "execution_count": 42,
     "metadata": {},
     "output_type": "execute_result"
    }
   ],
   "source": [
    "dt = ['2017-01-05 2:30:00 PM', 'Jan 5, 2017 14:30:00', '01/05/2016', '2017.01.05', '2017/01/05','20170105']\n",
    "pd.to_datetime(dt)"
   ]
  },
  {
   "cell_type": "markdown",
   "metadata": {},
   "source": [
    "# European style dates with day first"
   ]
  },
  {
   "cell_type": "code",
   "execution_count": 43,
   "metadata": {},
   "outputs": [
    {
     "data": {
      "text/plain": [
       "Timestamp('2016-12-30 00:00:00')"
      ]
     },
     "execution_count": 43,
     "metadata": {},
     "output_type": "execute_result"
    }
   ],
   "source": [
    "pd.to_datetime('30-12-2016')"
   ]
  },
  {
   "cell_type": "code",
   "execution_count": 44,
   "metadata": {},
   "outputs": [
    {
     "data": {
      "text/plain": [
       "Timestamp('2016-01-05 00:00:00')"
      ]
     },
     "execution_count": 44,
     "metadata": {},
     "output_type": "execute_result"
    }
   ],
   "source": [
    "pd.to_datetime('5-1-2016', dayfirst=True)"
   ]
  },
  {
   "cell_type": "markdown",
   "metadata": {},
   "source": [
    "# Custom date time format"
   ]
  },
  {
   "cell_type": "code",
   "execution_count": 45,
   "metadata": {},
   "outputs": [
    {
     "data": {
      "text/plain": [
       "Timestamp('2017-01-05 00:00:00')"
      ]
     },
     "execution_count": 45,
     "metadata": {},
     "output_type": "execute_result"
    }
   ],
   "source": [
    "pd.to_datetime('2017$01$05', format='%Y$%m$%d')"
   ]
  },
  {
   "cell_type": "code",
   "execution_count": 47,
   "metadata": {},
   "outputs": [
    {
     "data": {
      "text/plain": [
       "Timestamp('2017-01-05 00:00:00')"
      ]
     },
     "execution_count": 47,
     "metadata": {},
     "output_type": "execute_result"
    }
   ],
   "source": [
    "\n",
    "pd.to_datetime('2017#01#05', format='%Y#%m#%d')"
   ]
  },
  {
   "cell_type": "markdown",
   "metadata": {},
   "source": [
    "# Handling invalid dates"
   ]
  },
  {
   "cell_type": "code",
   "execution_count": 48,
   "metadata": {},
   "outputs": [
    {
     "data": {
      "text/plain": [
       "Index(['2017-01-05', 'Jan 6, 2017', 'abc'], dtype='object')"
      ]
     },
     "execution_count": 48,
     "metadata": {},
     "output_type": "execute_result"
    }
   ],
   "source": [
    "pd.to_datetime(['2017-01-05', 'Jan 6, 2017', 'abc'], errors='ignore')\n"
   ]
  },
  {
   "cell_type": "code",
   "execution_count": 49,
   "metadata": {},
   "outputs": [
    {
     "data": {
      "text/plain": [
       "DatetimeIndex(['2017-01-05', '2017-01-06', 'NaT'], dtype='datetime64[ns]', freq=None)"
      ]
     },
     "execution_count": 49,
     "metadata": {},
     "output_type": "execute_result"
    }
   ],
   "source": [
    "pd.to_datetime(['2017-01-05', 'Jan 6, 2017', 'abc'], errors='coerce')\n"
   ]
  },
  {
   "cell_type": "code",
   "execution_count": 57,
   "metadata": {},
   "outputs": [
    {
     "data": {
      "text/plain": [
       "Timestamp('2009-02-13 23:31:30')"
      ]
     },
     "execution_count": 57,
     "metadata": {},
     "output_type": "execute_result"
    }
   ],
   "source": [
    "current_epoch = 1234567890\n",
    "pd.to_datetime(current_epoch, unit='s')"
   ]
  },
  {
   "cell_type": "code",
   "execution_count": 58,
   "metadata": {},
   "outputs": [
    {
     "data": {
      "text/plain": [
       "DatetimeIndex(['2009-02-13 23:31:30'], dtype='datetime64[ns]', freq=None)"
      ]
     },
     "execution_count": 58,
     "metadata": {},
     "output_type": "execute_result"
    }
   ],
   "source": [
    "t = pd.to_datetime([current_epoch], unit='s')\n",
    "t"
   ]
  },
  {
   "cell_type": "code",
   "execution_count": 59,
   "metadata": {},
   "outputs": [
    {
     "data": {
      "text/plain": [
       "array([1234567890000000000], dtype=int64)"
      ]
     },
     "execution_count": 59,
     "metadata": {},
     "output_type": "execute_result"
    }
   ],
   "source": [
    "t.view('int64')\n"
   ]
  },
  {
   "cell_type": "markdown",
   "metadata": {},
   "source": [
    "# Pandas Time Series Analysis: Period and PeriodIndex"
   ]
  },
  {
   "cell_type": "code",
   "execution_count": 60,
   "metadata": {},
   "outputs": [
    {
     "data": {
      "text/plain": [
       "Period('2016', 'A-DEC')"
      ]
     },
     "execution_count": 60,
     "metadata": {},
     "output_type": "execute_result"
    }
   ],
   "source": [
    "y = pd.Period(\"2016\")\n",
    "y"
   ]
  },
  {
   "cell_type": "code",
   "execution_count": 62,
   "metadata": {},
   "outputs": [
    {
     "data": {
      "text/plain": [
       "Timestamp('2016-01-01 00:00:00')"
      ]
     },
     "execution_count": 62,
     "metadata": {},
     "output_type": "execute_result"
    }
   ],
   "source": [
    "y.start_time"
   ]
  },
  {
   "cell_type": "code",
   "execution_count": 63,
   "metadata": {},
   "outputs": [
    {
     "data": {
      "text/plain": [
       "True"
      ]
     },
     "execution_count": 63,
     "metadata": {},
     "output_type": "execute_result"
    }
   ],
   "source": [
    "y.is_leap_year"
   ]
  },
  {
   "cell_type": "code",
   "execution_count": 65,
   "metadata": {},
   "outputs": [
    {
     "data": {
      "text/plain": [
       "Period('2017-02', 'M')"
      ]
     },
     "execution_count": 65,
     "metadata": {},
     "output_type": "execute_result"
    }
   ],
   "source": [
    "m= pd.Period(\"2017-02\")\n",
    "m"
   ]
  },
  {
   "cell_type": "code",
   "execution_count": 66,
   "metadata": {},
   "outputs": [
    {
     "data": {
      "text/plain": [
       "Period('2017-03', 'M')"
      ]
     },
     "execution_count": 66,
     "metadata": {},
     "output_type": "execute_result"
    }
   ],
   "source": [
    "m+1"
   ]
  },
  {
   "cell_type": "code",
   "execution_count": 68,
   "metadata": {},
   "outputs": [
    {
     "data": {
      "text/plain": [
       "Period('2017-02-03', 'D')"
      ]
     },
     "execution_count": 68,
     "metadata": {},
     "output_type": "execute_result"
    }
   ],
   "source": [
    "d = pd.Period(\"2017-02-03\")\n",
    "d"
   ]
  },
  {
   "cell_type": "code",
   "execution_count": 73,
   "metadata": {},
   "outputs": [
    {
     "data": {
      "text/plain": [
       "Period('2017Q1', 'Q-JAN')"
      ]
     },
     "execution_count": 73,
     "metadata": {},
     "output_type": "execute_result"
    }
   ],
   "source": [
    "q1 = pd.Period(\"2017Q1\",freq = \"Q-JAN\")\n",
    "q1"
   ]
  },
  {
   "cell_type": "code",
   "execution_count": 74,
   "metadata": {},
   "outputs": [
    {
     "data": {
      "text/plain": [
       "Timestamp('2016-02-01 00:00:00')"
      ]
     },
     "execution_count": 74,
     "metadata": {},
     "output_type": "execute_result"
    }
   ],
   "source": [
    "q1.start_time"
   ]
  },
  {
   "cell_type": "code",
   "execution_count": 71,
   "metadata": {},
   "outputs": [
    {
     "data": {
      "text/plain": [
       "Timestamp('2017-01-01 00:00:00')"
      ]
     },
     "execution_count": 71,
     "metadata": {},
     "output_type": "execute_result"
    }
   ],
   "source": [
    "q1.start_time"
   ]
  },
  {
   "cell_type": "code",
   "execution_count": null,
   "metadata": {},
   "outputs": [],
   "source": []
  },
  {
   "cell_type": "code",
   "execution_count": null,
   "metadata": {},
   "outputs": [],
   "source": []
  },
  {
   "cell_type": "code",
   "execution_count": null,
   "metadata": {},
   "outputs": [],
   "source": []
  }
 ],
 "metadata": {
  "kernelspec": {
   "display_name": "Python 3",
   "language": "python",
   "name": "python3"
  },
  "language_info": {
   "codemirror_mode": {
    "name": "ipython",
    "version": 3
   },
   "file_extension": ".py",
   "mimetype": "text/x-python",
   "name": "python",
   "nbconvert_exporter": "python",
   "pygments_lexer": "ipython3",
   "version": "3.7.3"
  }
 },
 "nbformat": 4,
 "nbformat_minor": 2
}
